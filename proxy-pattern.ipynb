{
 "cells": [
  {
   "cell_type": "markdown",
   "metadata": {},
   "source": [
    "# 自动化用例开发过程中的常见技巧-代理模式"
   ]
  },
  {
   "cell_type": "markdown",
   "metadata": {},
   "source": [
    "![](https://my-storage.oss-cn-shanghai.aliyuncs.com/picgo/20200404192023.jpg)\n",
    "\n",
    "在上一次讲[连接复用](https://mp.weixin.qq.com/s?__biz=MzA4NTYwOTE3MQ==&mid=2452533036&idx=1&sn=aefdafe89e599803fc210d56d8a2d851&chksm=880f5090bf78d986e363bfb2cf61834723c06cc4af4168e656107ee62c7686de55fa039ad746&token=2011056306&lang=zh_CN#rd)的时候，我实现了一个类用于接管`pymysql.Connection`："
   ]
  },
  {
   "cell_type": "code",
   "execution_count": null,
   "metadata": {},
   "outputs": [],
   "source": [
    "class MySQLConnectionProxy:\n",
    "\n",
    "    def __init__(self, *args, **kwargs):\n",
    "        self._conn = pymysql.Connect(*args, **kwargs)\n",
    "\n",
    "    def __getattr__(self, item):\n",
    "        return getattr(self._conn, item)"
   ]
  },
  {
   "cell_type": "markdown",
   "metadata": {},
   "source": [
    "这其实是一个很典型的**Proxy Pattern**：给某一个对象提供一个代理，并由代理对象控制对原对象的引用\n",
    "\n",
    "> 具体完整解释请参考维基百科词条：https://en.wikipedia.org/wiki/Proxy_pattern\n",
    "\n",
    "代理模式应该是一种比较容易理解的设计模式，你可以把它类比成服务部署中的`nginx`、`apache http`这类服务，它不暴露原始的请求资源地址（对象），而是让nginx（proxy）来接管client（调用方）的所有请求，具备了通过nginx（proxy)植入一些额外的能力来实现对原始资源的扩展、控制等。\n",
    "\n",
    "![](https://my-storage.oss-cn-shanghai.aliyuncs.com/picgo/20200404201037.png)\n",
    "\n",
    "这种模式的调用时序可以看下图：\n",
    "\n",
    "![](https://my-storage.oss-cn-shanghai.aliyuncs.com/picgo/20200404200617.png)\n",
    "\n",
    "\n",
    "我个人认为代理模式存在几点优势：\n",
    "- 代理模式能够协调调用者和被调用者，在一定程度上降低了系统的耦合度。\n",
    "- 代理模式可以控制对真实对象的使用权限\n",
    "- 代理接管了对真实对象的调用，实现AOP（切面编程）的能力\n",
    "\n",
    "\n",
    "## 实现一个Proxy类\n",
    "\n",
    "在Python中因为有着`__getattr__`、`__setattr__`这样的magic method，所以实现一个通用的Proxy类是非常方便的事情："
   ]
  },
  {
   "cell_type": "code",
   "execution_count": 41,
   "metadata": {},
   "outputs": [],
   "source": [
    "class Proxy:\n",
    "    def __init__(self, subject):\n",
    "        self._subject = subject\n",
    "    \n",
    "    def __getattr__(self, item):\n",
    "        return getattr(self._subject, item)\n",
    "    \n",
    "    def __setattr__(self, item, value):\n",
    "        if item == \"_subject\":\n",
    "            super().__setattr__(item, value)\n",
    "        else:\n",
    "            setattr(self._subject, item, value)\n",
    "\n",
    "    \n",
    "class Student:\n",
    "    def __init__(self, name, age: int):\n",
    "        self.name = name\n",
    "        self.age = age\n",
    "    \n",
    "    def info(self):\n",
    "        return \"name: {}\\tage:{}\".format(self.name, self.age)"
   ]
  },
  {
   "cell_type": "code",
   "execution_count": 42,
   "metadata": {},
   "outputs": [
    {
     "name": "stdout",
     "output_type": "stream",
     "text": [
      "name: mike\tage:20\n",
      "name: mike\tage:24\n",
      "<class '__main__.Proxy'>\n"
     ]
    }
   ],
   "source": [
    "mike = Proxy(Student(\"mike\", 20))\n",
    "\n",
    "print(mike.info())\n",
    "mike.age = 24\n",
    "print(mike.info())\n",
    "print(type(mike))"
   ]
  },
  {
   "cell_type": "markdown",
   "metadata": {},
   "source": [
    "可以看到上面十行代码就实现了通用的Proxy，不过这样的Proxy看上去并没有太多实际作用，于是我稍微扩展下，让其能够实现`before`、`after`这样的事件钩子："
   ]
  },
  {
   "cell_type": "code",
   "execution_count": 52,
   "metadata": {},
   "outputs": [],
   "source": [
    "class Proxy:\n",
    "    def __init__(self, subject):\n",
    "        self._subject = subject\n",
    "        self._handlers = dict()\n",
    "    \n",
    "    def __getattr__(self, item):\n",
    "        before = \"before_{}\".format(item)\n",
    "        if before in self._handlers:\n",
    "            self._handlers[before](item)\n",
    "        \n",
    "        ret = getattr(self._subject, item)\n",
    "        \n",
    "        after = \"after_{}\".format(item)\n",
    "        if after in self._handlers:\n",
    "            self._handlers[after](item)\n",
    "        return ret\n",
    "    \n",
    "    def register(self, handler, method: str, scope: str):\n",
    "        \"\"\"注册任意函数的拦截器，实现对任意函数的after、before的钩子\"\"\"\n",
    "        self._handlers[\"{}_{}\".format(scope, method)] = handler\n",
    "        \n",
    "    \n",
    "    def __setattr__(self, item, value):\n",
    "        if item == \"_subject\" or item == \"_handlers\":\n",
    "            super().__setattr__(item, value)\n",
    "        else:\n",
    "            setattr(self._subject, item, value)"
   ]
  },
  {
   "cell_type": "code",
   "execution_count": 56,
   "metadata": {},
   "outputs": [
    {
     "name": "stdout",
     "output_type": "stream",
     "text": [
      "before invoke info method\n",
      "after invoke info method\n"
     ]
    },
    {
     "data": {
      "text/plain": [
       "'name: jack\\tage:16'"
      ]
     },
     "execution_count": 56,
     "metadata": {},
     "output_type": "execute_result"
    }
   ],
   "source": [
    "def print_before(item):\n",
    "    print(\"before invoke {} method\".format(item))\n",
    "\n",
    "def print_after(item):\n",
    "    print(\"after invoke {} method\".format(item))\n",
    "\n",
    "\n",
    "jack = Proxy(Student(\"jack\", 16))\n",
    "jack.register(print_before, \"info\", \"before\")\n",
    "jack.register(print_after, \"info\", \"after\")\n",
    "jack.info()"
   ]
  },
  {
   "cell_type": "markdown",
   "metadata": {},
   "source": [
    "以上代码可能会对不太熟悉Python编程的自动化测试人员产生很大的困扰，不用太紧张，如果在你的项目要应用到代理模式，你可以针对要具体代理的对象进行具体的实现，不需要用到这么多magic method造成理解的障碍。\n",
    "\n",
    "## 自动化测试用的应用\n",
    "\n",
    "在上一次讲[连接复用](https://mp.weixin.qq.com/s?__biz=MzA4NTYwOTE3MQ==&mid=2452533036&idx=1&sn=aefdafe89e599803fc210d56d8a2d851&chksm=880f5090bf78d986e363bfb2cf61834723c06cc4af4168e656107ee62c7686de55fa039ad746&token=2011056306&lang=zh_CN#rd)的末尾，我抛出了几个问题：\n",
    "- 如果mysql连接被服务端主动关闭了怎么办？\n",
    "- 因为是单例模式，如何防止有用例主动关闭mysql连接而影响其他用例？\n",
    "\n",
    "然后我再抛出一个需求：**如何让框架自动记录mysql的查询记录，而不是手动去打日志？**\n",
    "\n",
    "以上三个问题其实在代理模式下都可以非常方便、优雅的来解决掉："
   ]
  },
  {
   "cell_type": "code",
   "execution_count": 31,
   "metadata": {},
   "outputs": [],
   "source": [
    "import pymysql\n",
    "\n",
    "\n",
    "class CursorProxy(Proxy):\n",
    "    \n",
    "    def execute(*args, **kwargs):\n",
    "        # 这里可以实现日志记录\n",
    "        return getattr(self._subject, \"execute\")(*args, **kwargs)\n",
    "        \n",
    "\n",
    "\n",
    "class MySQLConnectionProxy:\n",
    "\n",
    "    def __init__(self, *args, **kwargs):\n",
    "        self._conn = pymysql.Connect(*args, **kwargs)\n",
    "\n",
    "    def __getattr__(self, item):\n",
    "        if self._conn.open:  # 这里可以检查是否被动关闭，然后实现重连\n",
    "            self._conn.connect()\n",
    "        \n",
    "        if item == \"close\":  # 当用例要主动关闭时，无视该调用即可\n",
    "            return\n",
    "        \n",
    "        if item == \"cursor\":  # 游标对象也需要代理\n",
    "            def _curor(*args, **kwargs):\n",
    "                return CurorProxy(getattr(self._subject, item)(*args, **kwargs))\n",
    "            return _curor\n",
    "        \n",
    "        return getattr(self._conn, item)\n"
   ]
  },
  {
   "cell_type": "markdown",
   "metadata": {},
   "source": [
    "结合这两节的内容来看，通过不太多的代码行数，在目前的自动化测试框架中已经实现了中间件client以下能力：\n",
    "- 连接的复用\n",
    "- 连接的自动重试、关闭保护\n",
    "- client请求内容的自动化日志记录\n",
    "\n",
    "**最后我抛出一个注意事项：在Python下使用代理模式后，能不能保留下原对象的上下文管理器(Context Manager)的特性？感兴趣的童鞋可以留言告知**\n",
    "\n",
    "![](https://my-storage.oss-cn-shanghai.aliyuncs.com/picgo/20200316211751.jpg)"
   ]
  },
  {
   "cell_type": "code",
   "execution_count": null,
   "metadata": {},
   "outputs": [],
   "source": []
  }
 ],
 "metadata": {
  "kernelspec": {
   "display_name": "Python 3",
   "language": "python",
   "name": "python3"
  },
  "language_info": {
   "codemirror_mode": {
    "name": "ipython",
    "version": 3
   },
   "file_extension": ".py",
   "mimetype": "text/x-python",
   "name": "python",
   "nbconvert_exporter": "python",
   "pygments_lexer": "ipython3",
   "version": "3.7.7"
  }
 },
 "nbformat": 4,
 "nbformat_minor": 4
}
